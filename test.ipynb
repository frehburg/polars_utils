{
 "cells": [
  {
   "cell_type": "code",
   "execution_count": 1,
   "id": "initial_id",
   "metadata": {
    "collapsed": true,
    "ExecuteTime": {
     "end_time": "2024-06-20T08:47:35.177940100Z",
     "start_time": "2024-06-20T08:47:34.513632400Z"
    }
   },
   "outputs": [],
   "source": [
    "import polars_utils"
   ]
  },
  {
   "cell_type": "code",
   "outputs": [
    {
     "ename": "AttributeError",
     "evalue": "module 'polars_utils' has no attribute 'map_col'",
     "output_type": "error",
     "traceback": [
      "\u001B[1;31m---------------------------------------------------------------------------\u001B[0m",
      "\u001B[1;31mAttributeError\u001B[0m                            Traceback (most recent call last)",
      "Cell \u001B[1;32mIn[2], line 1\u001B[0m\n\u001B[1;32m----> 1\u001B[0m \u001B[43mpolars_utils\u001B[49m\u001B[38;5;241;43m.\u001B[39;49m\u001B[43mmap_col\u001B[49m()\n",
      "\u001B[1;31mAttributeError\u001B[0m: module 'polars_utils' has no attribute 'map_col'"
     ]
    }
   ],
   "source": [
    "polars_utils."
   ],
   "metadata": {
    "collapsed": false,
    "ExecuteTime": {
     "end_time": "2024-06-20T08:46:25.904102200Z",
     "start_time": "2024-06-20T08:46:25.434554500Z"
    }
   },
   "id": "8b5c80dec9a3a922",
   "execution_count": 2
  },
  {
   "cell_type": "code",
   "outputs": [],
   "source": [],
   "metadata": {
    "collapsed": false
   },
   "id": "ad8b0dbd32078175"
  }
 ],
 "metadata": {
  "kernelspec": {
   "display_name": "Python 3",
   "language": "python",
   "name": "python3"
  },
  "language_info": {
   "codemirror_mode": {
    "name": "ipython",
    "version": 2
   },
   "file_extension": ".py",
   "mimetype": "text/x-python",
   "name": "python",
   "nbconvert_exporter": "python",
   "pygments_lexer": "ipython2",
   "version": "2.7.6"
  }
 },
 "nbformat": 4,
 "nbformat_minor": 5
}
